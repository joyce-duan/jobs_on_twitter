{
 "cells": [
  {
   "cell_type": "code",
   "execution_count": 132,
   "metadata": {
    "collapsed": false
   },
   "outputs": [
    {
     "name": "stdout",
     "output_type": "stream",
     "text": [
      "Populating the interactive namespace from numpy and matplotlib\n"
     ]
    },
    {
     "name": "stderr",
     "output_type": "stream",
     "text": [
      "WARNING: pylab import has clobbered these variables: ['cond']\n",
      "`%matplotlib` prevents importing * from pylab and numpy\n"
     ]
    }
   ],
   "source": [
    "%pylab inline\n",
    "\n",
    "import numpy as np\n",
    "import pandas as pd\n",
    "import scipy as sp\n",
    "import matplotlib.pyplot as plt\n",
    "import scipy.stats\n",
    "pd.set_option('display.mpl_style', 'default') # Make the graphs a bit prettier\n",
    "plt.rcParams['figure.figsize'] = (15, 5)\n"
   ]
  },
  {
   "cell_type": "code",
   "execution_count": 133,
   "metadata": {
    "collapsed": true
   },
   "outputs": [],
   "source": [
    "from util import *\n",
    "from model import *"
   ]
  },
  {
   "cell_type": "code",
   "execution_count": 134,
   "metadata": {
    "collapsed": false
   },
   "outputs": [
    {
     "data": {
      "text/plain": [
       "'\\ndf_users = read_unique_users\\ndf_tweets = read_tweest()\\n'"
      ]
     },
     "execution_count": 134,
     "metadata": {},
     "output_type": "execute_result"
    }
   ],
   "source": [
    "'''\n",
    "df_users = read_unique_users\n",
    "df_tweets = read_tweest()\n",
    "'''"
   ]
  },
  {
   "cell_type": "code",
   "execution_count": 135,
   "metadata": {
    "collapsed": false
   },
   "outputs": [
    {
     "name": "stdout",
     "output_type": "stream",
     "text": [
      "read in 11748 users\n",
      "read in 65950 tweets\n"
     ]
    }
   ],
   "source": [
    "df_users = read_unique_users(fnames= ['data/run2/users_stream.json']) \n",
    "df_tweets = read_tweets( fnames = ['data/run2/tweets_stream.json'] )"
   ]
  },
  {
   "cell_type": "code",
   "execution_count": 136,
   "metadata": {
    "collapsed": false
   },
   "outputs": [
    {
     "name": "stdout",
     "output_type": "stream",
     "text": [
      "(65950, 9)\n",
      "created_at        object\n",
      "created_by        object\n",
      "favorite_count     int64\n",
      "hash_tags         object\n",
      "id_str            object\n",
      "in_reply_to       object\n",
      "retweet_count      int64\n",
      "text              object\n",
      "urls              object\n",
      "dtype: object\n"
     ]
    }
   ],
   "source": [
    "print df_tweets.shape\n",
    "print df_tweets.dtypes"
   ]
  },
  {
   "cell_type": "code",
   "execution_count": 137,
   "metadata": {
    "collapsed": true
   },
   "outputs": [],
   "source": [
    "df_tweets = pre_process_tweets(df_tweets)"
   ]
  },
  {
   "cell_type": "code",
   "execution_count": 138,
   "metadata": {
    "collapsed": false
   },
   "outputs": [
    {
     "name": "stdout",
     "output_type": "stream",
     "text": [
      "63276.0 0.959454131918 65950\n"
     ]
    }
   ],
   "source": [
    "pipeline = read_model(fname='model_final.pkl')\n",
    "txt_lst = df_tweets.str_text\n",
    "y = pipeline.predict(txt_lst)\n",
    "print np.sum(y), (np.sum(y))/len(y), len(y)\n",
    "df_tweets['is_job_opening'] = y"
   ]
  },
  {
   "cell_type": "code",
   "execution_count": 139,
   "metadata": {
    "collapsed": false
   },
   "outputs": [
    {
     "name": "stdout",
     "output_type": "stream",
     "text": [
      "63276 63276.0\n",
      "63276.0\n"
     ]
    }
   ],
   "source": [
    "print np.sum(df_tweets['is_job_opening']>0), np.sum(y)\n",
    "print np.sum(y)"
   ]
  },
  {
   "cell_type": "code",
   "execution_count": 140,
   "metadata": {
    "collapsed": false
   },
   "outputs": [
    {
     "name": "stdout",
     "output_type": "stream",
     "text": [
      "count by str_text mean 1.113 std 0.785 cut_off 3.470\n",
      "65950 tweets, 59229 unique str_text, 58600 after filtering \n",
      "count by created_by mean 5.614 std 12.869 cut_off 44.222\n",
      "before 65950 after 47853\n"
     ]
    }
   ],
   "source": [
    "df_tweets = get_quality_tweets(df_tweets)\n",
    "df_tweets = df_tweets[ df_tweets['is_job_opening']==1]\n",
    "df_tweets['hour']=df_tweets['created_at'].apply(lambda x: int(x.split(':')[0].split()[-1])-7)\n",
    "df_tweets['hour'] = df_tweets['hour'].apply(lambda x: x+24 if x < 0 else x)\n",
    "df_tweets['user_screen_name'] = df_tweets['created_by']\n",
    "df_tweets = pd.merge(df_tweets , df_users[['user_location','user_screen_name']], how='left', on='user_screen_name') "
   ]
  },
  {
   "cell_type": "code",
   "execution_count": 141,
   "metadata": {
    "collapsed": false
   },
   "outputs": [
    {
     "data": {
      "image/png": "[encoded data removed]",
      "text/plain": [
       "<matplotlib.figure.Figure at 0x114d3ea10>"
      ]
     },
     "metadata": {},
     "output_type": "display_data"
    }
   ],
   "source": [
    "n, bins, patches = plt.hist(df_tweets.n_hashtag,bins=xrange(14), normed = 1)\n",
    "plt.show()"
   ]
  },
  {
   "cell_type": "code",
   "execution_count": 174,
   "metadata": {
    "collapsed": false
   },
   "outputs": [
    {
     "name": "stdout",
     "output_type": "stream",
     "text": [
      "2878\n",
      "user_location\n",
      "                    5328\n",
      "usa                  916\n",
      "canada               512\n",
      "united states        456\n",
      "us                   417\n",
      "los angeles ca       406\n",
      "boston ma            392\n",
      "new york ny          390\n",
      "san francisco ca     390\n",
      "california           355\n",
      "chicago il           350\n",
      "new york             332\n",
      "uk                   310\n",
      "worldwide            309\n",
      "houston tx           291\n",
      "phoenix az           287\n",
      "florida              279\n",
      "texas                276\n",
      "united kingdom       260\n",
      "austin tx            255\n",
      "Name: id_str, dtype: int64\n",
      "0.115264797508\n",
      "user location: 2878\n",
      "user_screen_name: 10259\n"
     ]
    }
   ],
   "source": [
    "cnt_by_loc = df_tweets.groupby('user_location')['id_str'].count().sort(ascending=False, inplace=False)\n",
    "print len(cnt_by_loc)\n",
    "print cnt_by_loc[:20]\n",
    "print 1.0*cnt_by_loc[0]/np.sum(cnt_by_loc)\n",
    "print 'user location:',df_tweets.user_location.nunique()\n",
    "print 'user_screen_name:',df_tweets.user_screen_name.nunique()"
   ]
  },
  {
   "cell_type": "code",
   "execution_count": 170,
   "metadata": {
    "collapsed": false
   },
   "outputs": [
    {
     "data": {
      "text/plain": [
       "<matplotlib.axes._subplots.AxesSubplot at 0x10ed50c90>"
      ]
     },
     "execution_count": 170,
     "metadata": {},
     "output_type": "execute_result"
    },
    {
     "data": {
      "image/png": "[encoded data removed]",
      "text/plain": [
       "<matplotlib.figure.Figure at 0x1141364d0>"
      ]
     },
     "metadata": {},
     "output_type": "display_data"
    }
   ],
   "source": [
    "df_tweets.groupby('hour')['id_str'].count().plot(kind='bar', figsize=(8,4))"
   ]
  },
  {
   "cell_type": "code",
   "execution_count": 144,
   "metadata": {
    "collapsed": false
   },
   "outputs": [],
   "source": [
    "position_vectorizer = JobCatVecotrizer()\n",
    "pos_vector = position_vectorizer.get_posi_m(df_tweets.str_text)\n",
    "job_cats = position_vectorizer.job_categories "
   ]
  },
  {
   "cell_type": "code",
   "execution_count": 145,
   "metadata": {
    "collapsed": false
   },
   "outputs": [
    {
     "name": "stdout",
     "output_type": "stream",
     "text": [
      "[(1424, 'admin'), (2100, 'analysis'), (2039, 'driver'), (5686, 'engineer'), (4452, 'marketing/sales'), (2963, 'medical')]\n",
      "(46224, 17)\n",
      "(46224, 6)\n"
     ]
    }
   ],
   "source": [
    "print zip(np.sum(pos_vector, axis = 0),job_cats )\n",
    "print df_tweets.shape\n",
    "print pos_vector.shape"
   ]
  },
  {
   "cell_type": "code",
   "execution_count": 146,
   "metadata": {
    "collapsed": false
   },
   "outputs": [
    {
     "name": "stdout",
     "output_type": "stream",
     "text": [
      "user_location\n",
      "                   114\n",
      "usa                 32\n",
      "united kingdom      21\n",
      "leeds england       19\n",
      "bristol england     19\n",
      "Name: id_str, dtype: int64\n",
      "user_location\n",
      "                 179\n",
      "usa               47\n",
      "columbus ohio     33\n",
      "boston ma         31\n",
      "united states     27\n",
      "Name: id_str, dtype: int64\n",
      "user_location\n",
      "                  120\n",
      "wisconsin          41\n",
      "california usa     34\n",
      "michigan           34\n",
      "vermont usa        28\n",
      "Name: id_str, dtype: int64\n",
      "user_location\n",
      "                575\n",
      "usa             162\n",
      "worldwide       100\n",
      "austin texas     67\n",
      "new york         66\n",
      "Name: id_str, dtype: int64\n",
      "user_location\n",
      "                    553\n",
      "usa                 124\n",
      "los angeles ca       64\n",
      "san francisco ca     64\n",
      "canada               56\n",
      "Name: id_str, dtype: int64\n",
      "user_location\n",
      "                  351\n",
      "houston tx         56\n",
      "texas              45\n",
      "los angeles ca     44\n",
      "boston ma          43\n",
      "Name: id_str, dtype: int64\n"
     ]
    }
   ],
   "source": [
    "s = []\n",
    "for i in xrange(len(job_cats)):\n",
    "    cond = pos_vector[:,i] == 1\n",
    "    cnt_by_loc_cat = df_tweets[cond].groupby('user_location')['id_str'].count().sort(ascending=False, inplace=False)\n",
    "    #print len(cnt_by_loc_cat)\n",
    "    print cnt_by_loc_cat[:5]\n",
    "    s.append(cnt_by_loc_cat)\n"
   ]
  },
  {
   "cell_type": "code",
   "execution_count": 159,
   "metadata": {
    "collapsed": false
   },
   "outputs": [],
   "source": [
    "df_cnt_by_loc = pd.concat(s, axis = 1)\n",
    "df_cnt_by_loc.columns = job_cats\n",
    "df_cnt_by_loc = df_cnt_by_loc.fillna(0)\n",
    "df_cnt_by_loc.head()\n",
    "for c in job_cats:\n",
    "    df_cnt_by_loc[c+'_rank']=df_cnt_by_loc[c].rank(ascending=False)"
   ]
  },
  {
   "cell_type": "code",
   "execution_count": 167,
   "metadata": {
    "collapsed": false
   },
   "outputs": [
    {
     "data": {
      "image/png": "[encoded data removed]",
      "text/plain": [
       "<matplotlib.figure.Figure at 0x10a0463d0>"
      ]
     },
     "metadata": {},
     "output_type": "display_data"
    }
   ],
   "source": [
    "import numpy as np; np.random.seed(0)\n",
    "import seaborn as sns; sns.set()\n",
    "ax = sns.heatmap(df_cnt_by_loc[cond][job_cats], annot=True, fmt=\".0f\")"
   ]
  },
  {
   "cell_type": "code",
   "execution_count": 168,
   "metadata": {
    "collapsed": false
   },
   "outputs": [
    {
     "data": {
      "text/plain": [
       "admin              1424\n",
       "analysis           2100\n",
       "driver             2039\n",
       "engineer           5686\n",
       "marketing/sales    4452\n",
       "medical            2963\n",
       "dtype: float64"
      ]
     },
     "execution_count": 168,
     "metadata": {},
     "output_type": "execute_result"
    }
   ],
   "source": [
    "cols_rank = [c+'_rank' for c in job_cats]\n",
    "df_cnt_by_loc['rank_best'] = df_cnt_by_loc[cols_rank].apply(lambda x: np.min(x), axis = 1)\n",
    "cond = df_cnt_by_loc['rank_best'] <5\n",
    "df_cnt_by_loc[job_cats].sum()"
   ]
  },
  {
   "cell_type": "code",
   "execution_count": 149,
   "metadata": {
    "collapsed": false
   },
   "outputs": [],
   "source": [
    "cond = df_tweets['created_by'] == 'Go2WebMarketing'\n",
    "for x in df_tweets[cond].text:\n",
    "    print x\n",
    "#print df_tweets[cond]"
   ]
  },
  {
   "cell_type": "code",
   "execution_count": 150,
   "metadata": {
    "collapsed": false
   },
   "outputs": [
    {
     "data": {
      "text/plain": [
       "(46224, 17)"
      ]
     },
     "execution_count": 150,
     "metadata": {},
     "output_type": "execute_result"
    }
   ],
   "source": [
    "df_tweets.shape"
   ]
  },
  {
   "cell_type": "code",
   "execution_count": 151,
   "metadata": {
    "collapsed": false
   },
   "outputs": [],
   "source": [
    "def is_ds(x):\n",
    "    pat = ['data scientist', 'analyst', 'analytics']\n",
    "    t = [p in x for p in pat]\n",
    "    return np.any(t)\n",
    "cond = map(lambda x: is_ds(x.lower()) , df_tweets.text)"
   ]
  },
  {
   "cell_type": "code",
   "execution_count": 152,
   "metadata": {
    "collapsed": false
   },
   "outputs": [
    {
     "data": {
      "text/plain": [
       "True"
      ]
     },
     "execution_count": 152,
     "metadata": {},
     "output_type": "execute_result"
    }
   ],
   "source": [
    "np.any([0,1,0])"
   ]
  },
  {
   "cell_type": "code",
   "execution_count": 153,
   "metadata": {
    "collapsed": true
   },
   "outputs": [],
   "source": [
    "cond = map(lambda x: 'job #truck #hiring #job #woodland - company drivers - increased starting pay view details #jobs'\\\n",
    "           in x, df_tweets.str_text)"
   ]
  },
  {
   "cell_type": "code",
   "execution_count": 154,
   "metadata": {
    "collapsed": false
   },
   "outputs": [
    {
     "data": {
      "text/html": [
       "<div>\n",
       "<table border=\"1\" class=\"dataframe\">\n",
       "  <thead>\n",
       "    <tr style=\"text-align: right;\">\n",
       "      <th></th>\n",
       "    </tr>\n",
       "  </thead>\n",
       "  <tbody>\n",
       "    <tr>\n",
       "      <th>created_at</th>\n",
       "    </tr>\n",
       "    <tr>\n",
       "      <th>created_by</th>\n",
       "    </tr>\n",
       "    <tr>\n",
       "      <th>favorite_count</th>\n",
       "    </tr>\n",
       "    <tr>\n",
       "      <th>hash_tags</th>\n",
       "    </tr>\n",
       "    <tr>\n",
       "      <th>id_str</th>\n",
       "    </tr>\n",
       "    <tr>\n",
       "      <th>in_reply_to</th>\n",
       "    </tr>\n",
       "    <tr>\n",
       "      <th>retweet_count</th>\n",
       "    </tr>\n",
       "    <tr>\n",
       "      <th>text</th>\n",
       "    </tr>\n",
       "    <tr>\n",
       "      <th>urls</th>\n",
       "    </tr>\n",
       "    <tr>\n",
       "      <th>str_text</th>\n",
       "    </tr>\n",
       "    <tr>\n",
       "      <th>is_rt</th>\n",
       "    </tr>\n",
       "    <tr>\n",
       "      <th>has_hashtag</th>\n",
       "    </tr>\n",
       "    <tr>\n",
       "      <th>n_hashtag</th>\n",
       "    </tr>\n",
       "    <tr>\n",
       "      <th>is_job_opening</th>\n",
       "    </tr>\n",
       "    <tr>\n",
       "      <th>hour</th>\n",
       "    </tr>\n",
       "    <tr>\n",
       "      <th>user_screen_name</th>\n",
       "    </tr>\n",
       "    <tr>\n",
       "      <th>user_location</th>\n",
       "    </tr>\n",
       "  </tbody>\n",
       "</table>\n",
       "</div>"
      ],
      "text/plain": [
       "Empty DataFrame\n",
       "Columns: []\n",
       "Index: [created_at, created_by, favorite_count, hash_tags, id_str, in_reply_to, retweet_count, text, urls, str_text, is_rt, has_hashtag, n_hashtag, is_job_opening, hour, user_screen_name, user_location]"
      ]
     },
     "execution_count": 154,
     "metadata": {},
     "output_type": "execute_result"
    }
   ],
   "source": [
    "df_tweets[cond].iloc[:5].T"
   ]
  },
  {
   "cell_type": "code",
   "execution_count": 155,
   "metadata": {
    "collapsed": false
   },
   "outputs": [
    {
     "name": "stdout",
     "output_type": "stream",
     "text": [
      "created_at        Thu Aug 13 20:04:31 +0000 2015\n",
      "is_job_opening                                 1\n",
      "hour                                          13\n",
      "Name: 0, dtype: object\n",
      "\"#nepal  #jobs .NET Developer - Synergy Info Systems (SIS) - 18 Days: Company: Synergy Info Systems (SI... http://t.co/FP2Ntc0mky .9774u\"\n",
      "created_at        Thu Aug 13 21:48:03 +0000 2015\n",
      "is_job_opening                                 1\n",
      "hour                                          14\n",
      "Name: 1, dtype: object\n",
      "\"@StudentSpaza: You a Radio Lover? Unemployed? over 18 years? have a valid SA ID? Apply for @Yfm #YAcademy NOW via http://t.co/qgmK2Wrm87\"\n",
      "created_at        Fri Aug 14 01:08:55 +0000 2015\n",
      "is_job_opening                                 1\n",
      "hour                                          18\n",
      "Name: 2, dtype: object\n",
      "#(AJ) #PKI Certs Administrator needed in #Columbia at AT&amp;T. Apply now! #jobs http://t.co/TmAQYVsGo9\n",
      "created_at        Fri Aug 14 01:05:27 +0000 2015\n",
      "is_job_opening                                 1\n",
      "hour                                          18\n",
      "Name: 3, dtype: object\n",
      "#.net #Medical &amp; #Hospitality #Jobs up to #US350K  #AxelJob http://t.co/DFVYypCJlM http://t.co/YdoATw1M59\n",
      "created_at        Fri Aug 14 02:04:09 +0000 2015\n",
      "is_job_opening                                 1\n",
      "hour                                          19\n",
      "Name: 4, dtype: object\n",
      "#.NET/SQL #SERVER SENIOR SOFTWARE ENGINEER needed in #Dublin at RECRUITERS - LOOKING FOR YOU. Apply now! #jobs http://t.co/SRRg3PIxzu\n",
      "created_at        Thu Aug 13 19:09:15 +0000 2015\n",
      "is_job_opening                                 1\n",
      "hour                                          12\n",
      "Name: 5, dtype: object\n",
      "#042 #- 5040 - PRODUCE CLERK STORE 138 98 CORNER STONE. CARY needed in #Cary at Harris Teeter. Apply now! #jobs http://t.co/yHp1u1wr3x\n",
      "created_at        Fri Aug 14 03:46:13 +0000 2015\n",
      "is_job_opening                                 1\n",
      "hour                                          20\n",
      "Name: 6, dtype: object\n",
      "#11 Weekly GoodBits #SocialMedia #Tech #Digital #Jobs Out Now\n",
      "https://t.co/mYWJy92tun…/weekly-dose-of-goo… http://t.co/jBEEoAls7r\n",
      "created_at        Thu Aug 13 20:07:50 +0000 2015\n",
      "is_job_opening                                 1\n",
      "hour                                          13\n",
      "Name: 7, dtype: object\n",
      "#1st #Line Service Desk Analyst needed in #Birmingham at SCC. Apply now! #jobs http://t.co/TLRTCxbPi0 http://t.co/7JqwrcmSXR\n",
      "created_at        Thu Aug 13 23:21:09 +0000 2015\n",
      "is_job_opening                                 1\n",
      "hour                                          16\n",
      "Name: 8, dtype: object\n",
      "#2nd #Shift Instock Associate needed in #Lethbridge at Walmart. Apply now! #jobs http://t.co/m75wG2L6rV\n",
      "created_at        Thu Aug 13 19:02:55 +0000 2015\n",
      "is_job_opening                                 1\n",
      "hour                                          12\n",
      "Name: 9, dtype: object\n",
      "#3364 #- MSABC Recruiter needed in #LosAngeles at RGBSI. Apply now! #jobs http://t.co/yGOpwjCgWN\n",
      "created_at        Fri Aug 14 03:53:33 +0000 2015\n",
      "is_job_opening                                 1\n",
      "hour                                          20\n",
      "Name: 10, dtype: object\n",
      "#42A #Human Resources Specialist needed in #Phoenix at Army National Guard. Apply now! #jobs http://t.co/RfzFAWSVAv\n",
      "created_at        Thu Aug 13 20:03:17 +0000 2015\n",
      "is_job_opening                                 1\n",
      "hour                                          13\n",
      "Name: 11, dtype: object\n",
      "#88M #Truck Driver needed in #Vancouver at National Guard. Apply now! #jobs http://t.co/VFfSPKI7XU http://t.co/ieV8xWqSFa\n",
      "created_at        Fri Aug 14 01:12:19 +0000 2015\n",
      "is_job_opening                                 1\n",
      "hour                                          18\n",
      "Name: 12, dtype: object\n",
      "#СменаРаботы? Senior PHP developer #Москва http://t.co/4IoWEz5pVx http://t.co/ip8wjT5FJ8\n",
      "created_at        Fri Aug 14 03:47:58 +0000 2015\n",
      "is_job_opening                                 1\n",
      "hour                                          20\n",
      "Name: 13, dtype: object\n",
      "#Aberdeen #Jobs Area Development Manager (Field Sales, Business Development) BLUA28149: Blue Oct... http://t.co/NbV6hw2Pgs #AberdeenJobs\n",
      "created_at        Thu Aug 13 16:34:19 +0000 2015\n",
      "is_job_opening                                 1\n",
      "hour                                           9\n",
      "Name: 14, dtype: object\n",
      "#Aberdeen #Jobs Customer Assistant - Boots - Aberdeen: Make our customers feel really good - it’s more than ju... http://t.co/DrI8gW7Dau\n",
      "created_at        Fri Aug 14 03:47:58 +0000 2015\n",
      "is_job_opening                                 1\n",
      "hour                                          20\n",
      "Name: 15, dtype: object\n",
      "#Aberdeen #Jobs Director of Strategic Accounts: Aberdeen - In this role, the Executive Account M... http://t.co/w5g58sbT17 #AberdeenJobs\n",
      "created_at        Thu Aug 13 23:19:22 +0000 2015\n",
      "is_job_opening                                 1\n",
      "hour                                          16\n",
      "Name: 16, dtype: object\n",
      "#Aberdeen #Jobs Staff Nurse RGN/RMN/RNLD: Staff Nurse RGN/RMN/RNLD  Salary:  £14.00  Job Reference: FMSTOKE St... http://t.co/gdMiBOOdy0\n",
      "created_at        Fri Aug 14 02:07:28 +0000 2015\n",
      "is_job_opening                                 1\n",
      "hour                                          19\n",
      "Name: 17, dtype: object\n",
      "#Abilene, TX #Retail #Job: MANAGERS IN TRAINING (MITS) at Mister Car Wash http://t.co/dpvdggCemD https://t.co/RnynmCTpPS #Jobs #Hiring\n",
      "created_at        Thu Aug 13 15:45:04 +0000 2015\n",
      "is_job_opening                                 1\n",
      "hour                                           8\n",
      "Name: 18, dtype: object\n",
      "#Abingdon #Jobs Registered Manager - Care, Abingdon: Registered Manager - Care Salary &amp;#x96;… http://t.co/uxh1XcnMNa #Job #AbingdonJobs\n",
      "created_at        Thu Aug 13 23:23:10 +0000 2015\n",
      "is_job_opening                                 1\n",
      "hour                                          16\n",
      "Name: 19, dtype: object\n",
      "#abqgigs HIRING REFERRAL AGENTS ASAP http://t.co/pHAaqJBKHg #abqjobs\n",
      "created_at        Fri Aug 14 02:04:16 +0000 2015\n",
      "is_job_opening                                 1\n",
      "hour                                          19\n",
      "Name: 20, dtype: object\n",
      "#ABRAAuto is hiring a #Body #Technician, apply now! (#Decatur) #job http://t.co/cFH1QWoxWP\n",
      "created_at        Thu Aug 13 22:33:42 +0000 2015\n",
      "is_job_opening                                 1\n",
      "hour                                          15\n",
      "Name: 21, dtype: object\n",
      "#ABRAAuto is looking for a #Automotive #Detailer, apply now! (#Indianapolis) #job http://t.co/R1CkSda0R9\n",
      "created_at        Thu Aug 13 16:32:01 +0000 2015\n",
      "is_job_opening                                 1\n",
      "hour                                           9\n",
      "Name: 22, dtype: object\n",
      "#AcademicWork is hiring! Acceptanstestledare till en av Sveriges #storbanker in #Stockholm, apply now! #jobb http://t.co/icHFiuv2vt\n",
      "created_at        Thu Aug 13 22:31:43 +0000 2015\n",
      "is_job_opening                                 1\n",
      "hour                                          15\n",
      "Name: 23, dtype: object\n",
      "#Accor is hiring a #ACCOUNTS #PAYABLE SUPERVISOR, apply now! (#KualaLumpur) #job http://t.co/99ePu1Z0Zc\n",
      "created_at        Thu Aug 13 21:40:35 +0000 2015\n",
      "is_job_opening                                 1\n",
      "hour                                          14\n",
      "Name: 24, dtype: object\n",
      "#Accor is hiring a #Cost #Control Officer, apply now! (#Bangkok) #job http://t.co/DeNPTtDyAi #AccorJobs\n",
      "created_at        Fri Aug 14 02:07:55 +0000 2015\n",
      "is_job_opening                                 1\n",
      "hour                                          19\n",
      "Name: 25, dtype: object\n",
      "#Accor is hiring a #KITCHEN #PORTER, apply now! (#London) #job http://t.co/Je1aKBUVg5 #AccorJobs\n",
      "created_at        Thu Aug 13 21:41:14 +0000 2015\n",
      "is_job_opening                                 1\n",
      "hour                                          14\n",
      "Name: 26, dtype: object\n",
      "#Accor is hiring a Sous #Chef - #Indian Cuisine, apply now! (#Mumbai) #job http://t.co/nE1q7qcrry\n",
      "created_at        Thu Aug 13 22:33:32 +0000 2015\n",
      "is_job_opening                                 1\n",
      "hour                                          15\n",
      "Name: 27, dtype: object\n",
      "#Accor is hiring! #ACCOUNTS #PAYABLE SUPERVISOR in #KualaLumpur, apply now! #job http://t.co/G1ysRchQON\n",
      "created_at        Fri Aug 14 02:07:54 +0000 2015\n",
      "is_job_opening                                 1\n",
      "hour                                          19\n",
      "Name: 28, dtype: object\n",
      "#Accor is hiring! #KITCHEN #PORTER in #London, apply now! #job http://t.co/hgxFqbxMmH\n",
      "created_at        Fri Aug 14 01:07:50 +0000 2015\n",
      "is_job_opening                                 1\n",
      "hour                                          18\n",
      "Name: 29, dtype: object\n",
      "#Accor is hiring! #NIGHT RECEPTIONIST - MULTI #SKILLED in #London, apply now! #job http://t.co/D2auW3jIy0 #AccorJobs\n",
      "created_at        Thu Aug 13 21:40:34 +0000 2015\n",
      "is_job_opening                                 1\n",
      "hour                                          14\n",
      "Name: 30, dtype: object\n",
      "#Accor is looking for a #Purchasing #Officer in #Bangkok, apply now! #job http://t.co/ZwShIWJ2Zh\n",
      "created_at        Fri Aug 14 01:05:44 +0000 2015\n",
      "is_job_opening                                 1\n",
      "hour                                          18\n",
      "Name: 31, dtype: object\n",
      "#Accor: #Medewerker Bar/#Restaurant Fulltime m/v in #Amsterdam #job http://t.co/YttXImM127 #AccorJobs http://t.co/dbv8DdgPT3\n",
      "created_at        Thu Aug 13 21:42:05 +0000 2015\n",
      "is_job_opening                                 1\n",
      "hour                                          14\n",
      "Name: 32, dtype: object\n",
      "#AccorIndia is hiring a #Front Office #Associate, apply now! (#Bangalore) #job http://t.co/RAbt287rqo\n",
      "created_at        Thu Aug 13 21:42:07 +0000 2015\n",
      "is_job_opening                                 1\n",
      "hour                                          14\n",
      "Name: 33, dtype: object\n",
      "#AccorIndia is hiring! Sous #Chef (South #Indian) in #Bangalore, apply now! #job http://t.co/C2LznEho8x\n",
      "created_at        Thu Aug 13 21:45:14 +0000 2015\n",
      "is_job_opening                                 1\n",
      "hour                                          14\n",
      "Name: 34, dtype: object\n",
      "#AccorIndia is looking for a F&amp;B; #Supervisor in #Hyderabad, apply now! #job http://t.co/Kb32Jtjh6Y\n",
      "created_at        Thu Aug 13 22:33:31 +0000 2015\n",
      "is_job_opening                                 1\n",
      "hour                                          15\n",
      "Name: 35, dtype: object\n",
      "#AccorMalaysiaIndonesia is hiring a #ACCOUNTS #PAYABLE SUPERVISOR, apply now! (#KualaLumpur) #job http://t.co/wSJQ2beklk\n",
      "created_at        Thu Aug 13 21:40:35 +0000 2015\n",
      "is_job_opening                                 1\n",
      "hour                                          14\n",
      "Name: 36, dtype: object\n",
      "#AccorThailandCambodiaLaosMyanmar is looking for a #Cost #Control Officer, apply now! (#Bangkok) #job http://t.co/iMb38SUrtP\n",
      "created_at        Thu Aug 13 22:31:42 +0000 2015\n",
      "is_job_opening                                 1\n",
      "hour                                          15\n",
      "Name: 37, dtype: object\n",
      "#AccorThailandCambodiaLaosMyanmar is looking for a GSA #Guest Relations in #Bangkok, apply now! #job http://t.co/PssjiQ2jeV\n",
      "created_at        Thu Aug 13 22:34:04 +0000 2015\n",
      "is_job_opening                                 1\n",
      "hour                                          15\n",
      "Name: 38, dtype: object\n",
      "#Account #Consultant - Cleveland Ohio (#job) wanted in #Cleveland. #Staples http://t.co/QhCH4rfc5E\n",
      "created_at        Fri Aug 14 03:49:21 +0000 2015\n",
      "is_job_opening                                 1\n",
      "hour                                          20\n",
      "Name: 39, dtype: object\n",
      "#Account #Director - Creative Events Agency needed in #Manchester at Henry Nicholas Associates. Apply now! #jobs http://t.co/NY4H9cFohu\n",
      "created_at        Fri Aug 14 03:47:34 +0000 2015\n",
      "is_job_opening                                 1\n",
      "hour                                          20\n",
      "Name: 40, dtype: object\n",
      "#Account #Executive, Indoor Advertising needed in #Toronto at Newad Inc.. Apply now! #jobs http://t.co/Yiig4K8r46 http://t.co/qciTlg5kJD\n",
      "created_at        Fri Aug 14 02:03:55 +0000 2015\n",
      "is_job_opening                                 1\n",
      "hour                                          19\n",
      "Name: 41, dtype: object\n",
      "#Account #Executive, WBIR (#job) wanted in #Knoxville. #WBIRTVKnoxvilleTN http://t.co/QundqqQqtQ #MakeYourMark #NewGannett\n",
      "created_at        Thu Aug 13 21:45:12 +0000 2015\n",
      "is_job_opening                                 1\n",
      "hour                                          14\n",
      "Name: 42, dtype: object\n",
      "#Account #Manager - Commercial (USG BORAL) needed in #Melbourne at Boral. Apply now! #jobs http://t.co/y3ydPPMiW5 http://t.co/tCR3PXjIZM\n",
      "created_at        Fri Aug 14 03:47:48 +0000 2015\n",
      "is_job_opening                                 1\n",
      "hour                                          20\n",
      "Name: 43, dtype: object\n",
      "#Account #Manager - Financial Trading needed in #Melbourne at CareerOne. Apply now! #jobs http://t.co/5KC3aX3urb http://t.co/sBtUVPUdYl\n",
      "created_at        Thu Aug 13 22:30:58 +0000 2015\n",
      "is_job_opening                                 1\n",
      "hour                                          15\n",
      "Name: 44, dtype: object\n",
      "#Account #Manager - Oil &amp; Gas needed in #London at Spencer Ogden. Apply now! #jobs http://t.co/r09EZMlQiI\n",
      "created_at        Thu Aug 13 21:40:14 +0000 2015\n",
      "is_job_opening                                 1\n",
      "hour                                          14\n",
      "Name: 45, dtype: object\n",
      "#Account #Manager needed in #Wakefield at Lea Consultancy Limited. Apply now! #jobs http://t.co/d0Lo2L1DMB http://t.co/rR5EZvKVE2\n",
      "created_at        Fri Aug 14 02:07:33 +0000 2015\n",
      "is_job_opening                                 1\n",
      "hour                                          19\n",
      "Name: 46, dtype: object\n",
      "#Account #Manager/Key Account Manager - IT (m/w) gesucht! #jobs http://t.co/fpge3Rjq84\n",
      "created_at        Fri Aug 14 03:46:16 +0000 2015\n",
      "is_job_opening                                 1\n",
      "hour                                          20\n",
      "Name: 47, dtype: object\n",
      "#Account #Supervisor needed in #Detroit at Sapient. Apply now! #jobs http://t.co/wvsIO1qtU3\n",
      "created_at        Thu Aug 13 21:47:45 +0000 2015\n",
      "is_job_opening                                 1\n",
      "hour                                          14\n",
      "Name: 48, dtype: object\n",
      "#Accountant #- £30,000 - £35,000 - Leeds DOE needed in #Leeds at Recruitment Team Nine Ltd. Apply now! #jobs http://t.co/Gcake2LeIl\n",
      "created_at        Thu Aug 13 21:48:37 +0000 2015\n",
      "is_job_opening                                 1\n",
      "hour                                          14\n",
      "Name: 49, dtype: object\n",
      "#Accountant #2 - Shared Services needed in #Nashville at RR Donnelley &amp; Sons. Apply now! #jobs http://t.co/7C7vmcyoxz\n",
      "created_at        Thu Aug 13 17:22:20 +0000 2015\n",
      "is_job_opening                                 1\n",
      "hour                                          10\n",
      "Name: 50, dtype: object\n",
      "#Accountant #I Medical Group Finance needed in #Charlotte at Carolinas HealthCare System. Apply now! #jobs http://t.co/ZevslqVee5\n",
      "created_at        Thu Aug 13 22:37:10 +0000 2015\n",
      "is_job_opening                                 1\n",
      "hour                                          15\n",
      "Name: 51, dtype: object\n",
      "#Accountant needed in #Atlanta at SunTrust Banks. Apply now! #jobs http://t.co/5uKMGZLyMz\n",
      "created_at        Thu Aug 13 15:48:25 +0000 2015\n",
      "is_job_opening                                 1\n",
      "hour                                           8\n",
      "Name: 52, dtype: object\n",
      "#Accountant needed in #Phoenix at DTZ. Apply now! #jobs http://t.co/LA6wuFIlQQ http://t.co/SX47KTdJxo\n",
      "created_at        Thu Aug 13 22:32:01 +0000 2015\n",
      "is_job_opening                                 1\n",
      "hour                                          15\n",
      "Name: 53, dtype: object\n",
      "#Accountemps is hiring a #Accounting #Clerk in #FortLauderdale, apply now! #job http://t.co/QBXaCUTqhz\n",
      "created_at        Thu Aug 13 20:07:22 +0000 2015\n",
      "is_job_opening                                 1\n",
      "hour                                          13\n",
      "Name: 54, dtype: object\n",
      "#Accountemps is hiring a #Accounting #Clerk in #Orlando, apply now! #job http://t.co/MH7WxWG4SH\n",
      "created_at        Thu Aug 13 22:31:55 +0000 2015\n",
      "is_job_opening                                 1\n",
      "hour                                          15\n",
      "Name: 55, dtype: object\n",
      "#Accountemps is hiring a #Accounts Payable #Clerk, apply now! (#Plainview) #job http://t.co/Nm3KEHR8JT\n",
      "created_at        Thu Aug 13 22:32:02 +0000 2015\n",
      "is_job_opening                                 1\n",
      "hour                                          15\n",
      "Name: 56, dtype: object\n",
      "#Accountemps is hiring a #Accounts Receivable #Clerk, apply now! (#Orlando) #job http://t.co/HvVgzdZF99\n",
      "created_at        Fri Aug 14 02:04:15 +0000 2015\n",
      "is_job_opening                                 1\n",
      "hour                                          19\n",
      "Name: 57, dtype: object\n",
      "#Accountemps is hiring a #Billing #Clerk, apply now! (#CherryHill) #job http://t.co/kFBoWGtdXa\n",
      "created_at        Thu Aug 13 16:33:42 +0000 2015\n",
      "is_job_opening                                 1\n",
      "hour                                           9\n",
      "Name: 58, dtype: object\n",
      "#Accountemps is hiring a #Bookkeeper in #WestOrange, apply now! #job http://t.co/XdskMUjtqY\n",
      "created_at        Thu Aug 13 20:03:31 +0000 2015\n",
      "is_job_opening                                 1\n",
      "hour                                          13\n",
      "Name: 59, dtype: object\n",
      "#Accountemps is hiring a #Credit #Clerk in #Memphis, apply now! #job http://t.co/41wB5fTc7h\n",
      "created_at        Thu Aug 13 20:07:02 +0000 2015\n",
      "is_job_opening                                 1\n",
      "hour                                          13\n",
      "Name: 60, dtype: object\n",
      "#Accountemps is hiring a #Finance &amp; #Accounting Associate in #Fremont, apply now! #job http://t.co/GscsHYqK6k\n",
      "created_at        Fri Aug 14 00:14:38 +0000 2015\n",
      "is_job_opening                                 1\n",
      "hour                                          17\n",
      "Name: 61, dtype: object\n",
      "#Accountemps is hiring a #Staff #Accountant with Yardi Needed Immediately, apply now! (#Bethesda) #job http://t.co/Xb9dohyCVQ\n",
      "created_at        Thu Aug 13 16:40:12 +0000 2015\n",
      "is_job_opening                                 1\n",
      "hour                                           9\n",
      "Name: 62, dtype: object\n",
      "#Accountemps is hiring! #Accounts Payable #Clerk in #NewYork, apply now! #job http://t.co/UkMS8QcjyE\n",
      "created_at        Thu Aug 13 21:41:44 +0000 2015\n",
      "is_job_opening                                 1\n",
      "hour                                          14\n",
      "Name: 63, dtype: object\n",
      "#Accountemps is hiring! #Bookkeeper in #NewYork, apply now! #job http://t.co/cZStIOU5Pw\n",
      "created_at        Thu Aug 13 22:34:03 +0000 2015\n",
      "is_job_opening                                 1\n",
      "hour                                          15\n",
      "Name: 64, dtype: object\n",
      "#Accountemps is hiring! Corporate #Tax Staff #Accountant in #Atlanta, apply now! #job http://t.co/2RoMoanKyi\n",
      "created_at        Fri Aug 14 02:03:54 +0000 2015\n",
      "is_job_opening                                 1\n",
      "hour                                          19\n",
      "Name: 65, dtype: object\n",
      "#Accountemps is hiring! Full #Charge #Bookkeeper in #Nashville, apply now! #job http://t.co/KAZICpvH9l\n",
      "created_at        Thu Aug 13 20:03:30 +0000 2015\n",
      "is_job_opening                                 1\n",
      "hour                                          13\n",
      "Name: 66, dtype: object\n",
      "#Accountemps is hiring! Senior #Accountant in #Portland, apply now! #job http://t.co/leNU3J206b\n",
      "created_at        Thu Aug 13 20:07:21 +0000 2015\n",
      "is_job_opening                                 1\n",
      "hour                                          13\n",
      "Name: 67, dtype: object\n",
      "#Accountemps is looking for a #Accounts Receivable #Clerk, apply now! (#Orlando) #job http://t.co/YyfanCMxrH\n",
      "created_at        Fri Aug 14 02:03:54 +0000 2015\n",
      "is_job_opening                                 1\n",
      "hour                                          19\n",
      "Name: 68, dtype: object\n",
      "#Accountemps is looking for a #Staff #Accountant, apply now! (#Indianapolis) #job http://t.co/eKguQD1NiB\n",
      "created_at        Thu Aug 13 22:33:52 +0000 2015\n",
      "is_job_opening                                 1\n",
      "hour                                          15\n",
      "Name: 69, dtype: object\n",
      "#Accountemps is looking for a Growing #Company seeking a Senior Mortgage #Processor in #Phoenix, apply now! #job http://t.co/TjxQqcDpc8\n",
      "created_at        Thu Aug 13 22:38:42 +0000 2015\n",
      "is_job_opening                                 1\n",
      "hour                                          15\n",
      "Name: 70, dtype: object\n",
      "#Accountemps: Trade #Support #Assistant for downtown Phoenix investment firm in #Phoenix #job http://t.co/dFs50HUNaK\n",
      "created_at        Thu Aug 13 22:30:26 +0000 2015\n",
      "is_job_opening                                 1\n",
      "hour                                          15\n",
      "Name: 71, dtype: object\n",
      "#Accounting #Analyst needed in #Charlotte at DHG Search. Apply now! #jobs http://t.co/DYPbUHIAaG http://t.co/TctFZm0Y7U\n",
      "created_at        Fri Aug 14 03:50:37 +0000 2015\n",
      "is_job_opening                                 1\n",
      "hour                                          20\n",
      "Name: 72, dtype: object\n",
      "#Accounting #and Payroll needed in #Calgary at David Aplin Group. Apply now! #jobs http://t.co/ILmSygirW3\n",
      "created_at        Thu Aug 13 22:30:46 +0000 2015\n",
      "is_job_opening                                 1\n",
      "hour                                          15\n",
      "Name: 73, dtype: object\n",
      "#Accounting #Clerk (#job) wanted in #Cleveland. #Accountemps http://t.co/n9KpsGjBvw\n",
      "created_at        Thu Aug 13 22:31:18 +0000 2015\n",
      "is_job_opening                                 1\n",
      "hour                                          15\n",
      "Name: 74, dtype: object\n",
      "#Accounting #Clerk (#job) wanted in #EastStLouis. #Accountemps http://t.co/Iou8N4Z1ZS\n",
      "created_at        Thu Aug 13 22:30:46 +0000 2015\n",
      "is_job_opening                                 1\n",
      "hour                                          15\n",
      "Name: 75, dtype: object\n",
      "#Accounting #Clerk Needed for 2-3 Months needed in #NorthOlmsted at #Accountemps. Apply now! #job http://t.co/g3s85DjU0x\n",
      "created_at        Fri Aug 14 02:04:15 +0000 2015\n",
      "is_job_opening                                 1\n",
      "hour                                          19\n",
      "Name: 76, dtype: object\n",
      "#Accounting #Clerk needed in #FeastervilleTrevose, apply now at #Accountemps! #job http://t.co/mQHDmLAc5B\n",
      "created_at        Thu Aug 13 22:33:42 +0000 2015\n",
      "is_job_opening                                 1\n",
      "hour                                          15\n",
      "Name: 77, dtype: object\n",
      "#Accounting #Clerk needed in #Minneapolis at #Accountemps. Apply now! #job http://t.co/H02WAeS0Lx\n",
      "created_at        Thu Aug 13 22:32:03 +0000 2015\n",
      "is_job_opening                                 1\n",
      "hour                                          15\n",
      "Name: 78, dtype: object\n",
      "#Accounting #Clerk needed in #Orlando, apply now at #Accountemps! #job http://t.co/rBijwd75lw\n",
      "created_at        Thu Aug 13 21:47:51 +0000 2015\n",
      "is_job_opening                                 1\n",
      "hour                                          14\n",
      "Name: 79, dtype: object\n",
      "#Accounting #Clerk needed in #Phoenix at Confidential. Apply now! #jobs http://t.co/bW6amSss8M\n",
      "created_at        Thu Aug 13 15:46:15 +0000 2015\n",
      "is_job_opening                                 1\n",
      "hour                                           8\n",
      "Name: 80, dtype: object\n",
      "#Accounting #Job alert: Accounts Receivable - Collections Specialist (4.00pm - 12.00am) | Trustwave | #Warszawa http://t.co/onfcMNrw5t\n",
      "created_at        Thu Aug 13 22:34:04 +0000 2015\n",
      "is_job_opening                                 1\n",
      "hour                                          15\n",
      "Name: 81, dtype: object\n",
      "#Accounting #Job alert: AP Supervisor - EXCELLENT Company -... | Robert Half Finance &amp; Accounting | #Columbia, SC http://t.co/LImMbjl5Yy\n",
      "created_at        Thu Aug 13 22:38:35 +0000 2015\n",
      "is_job_opening                                 1\n",
      "hour                                          15\n",
      "Name: 82, dtype: object\n",
      "#Accounting #Job alert: Controller | Robert Half Finance &amp; Accounting | #Houston, TX http://t.co/CbeJEryML4 #TheCreativeGroup #Jobs #Hiring\n",
      "created_at        Thu Aug 13 17:28:49 +0000 2015\n",
      "is_job_opening                                 1\n",
      "hour                                          10\n",
      "Name: 83, dtype: object\n",
      "#Accounting #Job alert: Customer Service - Payroll Specialist | Paychex Inc. | #Allentown, PA http://t.co/uvQXf4jIQF #Jobs #Hiring\n",
      "created_at        Thu Aug 13 21:39:11 +0000 2015\n",
      "is_job_opening                                 1\n",
      "hour                                          14\n",
      "Name: 84, dtype: object\n",
      "#Accounting #Job alert: Global Process Owner- Accounts Receivable | Dentsply International | #York, PA http://t.co/XPCfu9ieCI #Jobs\n",
      "created_at        Thu Aug 13 16:37:26 +0000 2015\n",
      "is_job_opening                                 1\n",
      "hour                                           9\n",
      "Name: 85, dtype: object\n",
      "#Accounting #Job alert: Project Accountant | Emerson | #Escazu, San Jose http://t.co/nedK3HQ8K1 #Jobs #Hiring\n",
      "created_at        Thu Aug 13 20:10:00 +0000 2015\n",
      "is_job_opening                                 1\n",
      "hour                                          13\n",
      "Name: 86, dtype: object\n",
      "#Accounting #Job alert: Senior Accountant | Robert Half Finance &amp; Accounting | #LakeForest, IL http://t.co/GrMg68R012 #Jobs #Hiring\n",
      "created_at        Thu Aug 13 17:26:48 +0000 2015\n",
      "is_job_opening                                 1\n",
      "hour                                          10\n",
      "Name: 87, dtype: object\n",
      "#Accounting #Job alert: Staff Accountant at expanding DC nonprofit | Accountemps | #WASHINGTON, DC http://t.co/dhxqkquDgh #Jobs #Hiring\n",
      "created_at        Thu Aug 13 20:02:08 +0000 2015\n",
      "is_job_opening                                 1\n",
      "hour                                          13\n",
      "Name: 88, dtype: object\n",
      "#Accounting #Job alert: Staff Accountant | Kelly Services | #Burbank, CA http://t.co/DAXzsfN5r5 #KellyJobs #KellyServices #Jobs #Hiring\n",
      "created_at        Thu Aug 13 23:23:22 +0000 2015\n",
      "is_job_opening                                 1\n",
      "hour                                          16\n",
      "Name: 89, dtype: object\n",
      "#Accounting #Job Dental Associate: UK, East Anglia , Cambridgeshire: This dental practice are... http://t.co/hVNCoTKLzK from #Jobmax #UK\n",
      "created_at        Thu Aug 13 23:23:22 +0000 2015\n",
      "is_job_opening                                 1\n",
      "hour                                          16\n",
      "Name: 90, dtype: object\n",
      "#Accounting #Job Environmental Operations Deputy- Organic W: UK, Yorkshire and Humberside, No... http://t.co/zAsnNzLWK3 from #Jobmax #UK\n",
      "created_at        Thu Aug 13 17:27:24 +0000 2015\n",
      "is_job_opening                                 1\n",
      "hour                                          10\n",
      "Name: 91, dtype: object\n",
      "#Accounting #Job in #Caldwell, NJ: Public Tax Manager at Robert Half Finance &amp; Accounting http://t.co/9m7XgBjC29 #Jobs #Hiring #CareerArc\n",
      "created_at        Thu Aug 13 22:38:38 +0000 2015\n",
      "is_job_opening                                 1\n",
      "hour                                          15\n",
      "Name: 92, dtype: object\n",
      "#Accounting #Job in #Carlsbad, CA: Seeking a long term Tempoary Accounting Clerk at Accountemps http://t.co/5w7s7zb0Kl #Jobs #Hiring\n",
      "created_at        Thu Aug 13 19:04:48 +0000 2015\n",
      "is_job_opening                                 1\n",
      "hour                                          12\n",
      "Name: 93, dtype: object\n",
      "#Accounting #Job in #CINCINNATI, OH: Accounting Supervisor-Growing company! at Robert Half Finance &amp; Accounting http://t.co/nJRODqLFkD\n",
      "created_at        Thu Aug 13 23:24:44 +0000 2015\n",
      "is_job_opening                                 1\n",
      "hour                                          16\n",
      "Name: 94, dtype: object\n",
      "#Accounting #Job in #Ellenwood, GA: Senior Accounts Receivable Specialist at Kauffman Tire http://t.co/8Z7CykrNCM #Jobs #Hiring #CareerArc\n",
      "created_at        Thu Aug 13 22:35:09 +0000 2015\n",
      "is_job_opening                                 1\n",
      "hour                                          15\n",
      "Name: 95, dtype: object\n",
      "#Accounting #Job in #farmington, NM: Area Manager at NM-Tax Ent. HR Block http://t.co/4LsoyjpXO3 #Jobs #Hiring #CareerArc\n",
      "created_at        Thu Aug 13 21:44:01 +0000 2015\n",
      "is_job_opening                                 1\n",
      "hour                                          14\n",
      "Name: 96, dtype: object\n",
      "#Accounting #Job in #GREENWOOD, IN: Medical Coding Specialist - Must be ICD-10 Certified at Accountemps http://t.co/y9fp9KFuQM #Jobs\n",
      "created_at        Thu Aug 13 16:36:36 +0000 2015\n",
      "is_job_opening                                 1\n",
      "hour                                           9\n",
      "Name: 97, dtype: object\n",
      "#Accounting #Job in #HOLLAND, OH: Accounts Receivable Accountant at Accountemps http://t.co/BIbMbRIW9y #Jobs #Hiring #CareerArc\n",
      "created_at        Thu Aug 13 17:26:46 +0000 2015\n",
      "is_job_opening                                 1\n",
      "hour                                          10\n",
      "Name: 98, dtype: object\n",
      "#Accounting #Job in #Houston, TX: Controller Position in the Greenspoint Area at Robert Half Finance &amp; Accounting http://t.co/Pi3IKx6ekb\n",
      "created_at        Thu Aug 13 15:49:43 +0000 2015\n",
      "is_job_opening                                 1\n",
      "hour                                           8\n",
      "Name: 99, dtype: object\n",
      "#Accounting #Job in #Miami, FL: Accounting Clerk at Accountemps http://t.co/fSZDXhryDg #Jobs #Hiring #CareerArc\n"
     ]
    }
   ],
   "source": [
    "for i in xrange(100):\n",
    "    print df_tweets.iloc[i][['created_at', 'is_job_opening','hour']] \n",
    "    print df_tweets.iloc[i]['text']\n",
    "\n"
   ]
  },
  {
   "cell_type": "code",
   "execution_count": null,
   "metadata": {
    "collapsed": true
   },
   "outputs": [],
   "source": []
  },
  {
   "cell_type": "code",
   "execution_count": null,
   "metadata": {
    "collapsed": true
   },
   "outputs": [],
   "source": []
  },
  {
   "cell_type": "code",
   "execution_count": null,
   "metadata": {
    "collapsed": true
   },
   "outputs": [],
   "source": []
  }
 ],
 "metadata": {
  "kernelspec": {
   "display_name": "Python 2",
   "language": "python",
   "name": "python2"
  },
  "language_info": {
   "codemirror_mode": {
    "name": "ipython",
    "version": 2
   },
   "file_extension": ".py",
   "mimetype": "text/x-python",
   "name": "python",
   "nbconvert_exporter": "python",
   "pygments_lexer": "ipython2",
   "version": "2.7.10"
  }
 },
 "nbformat": 4,
 "nbformat_minor": 0
}
